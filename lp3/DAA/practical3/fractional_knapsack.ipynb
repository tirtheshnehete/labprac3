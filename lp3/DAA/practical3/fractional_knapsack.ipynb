{
 "cells": [
  {
   "cell_type": "code",
   "execution_count": null,
   "id": "e2b3df1d-0610-494c-96a7-939d13fd39f8",
   "metadata": {},
   "outputs": [],
   "source": [
    "class item:\n",
    "    def __init__(self,profit,weight):\n",
    "        self.profit=profit\n",
    "        self.weight=weight\n",
    "\n",
    "def fractional_knapsack(w,arr):\n",
    "    arr.sort(key=lambda x: x.profit/x.weight,reverse=True)\n",
    "    final_value=0.0\n",
    "    for item in arr:\n",
    "        if w >=item.weight:\n",
    "            final_value+=item.profit\n",
    "            w-=item.weight\n",
    "        else:\n",
    "            final_value=item.profit*(w/item.weight)\n",
    "            break\n",
    "    return final_value\n",
    "\n",
    "if __name__==\"__main__\":\n",
    "    n=int(input(\"Enter the number of items\\n\"))\n",
    "    arr=[]\n",
    "    for i in range(n):\n",
    "        profit=int(input(f\"Enter the profit for item{i+1}\\n\"))\n",
    "        weight=int(input(f\"Enter the weight for item{i+1}\\n\"))\n",
    "        arr.append(item(profit,weight))\n",
    "    w=int(input(\"Enter the maximum capacity of knapsack\\n\"))\n",
    "    print(fractional_knapsack(w,arr))\n",
    "\n",
    "            "
   ]
  },
  {
   "cell_type": "code",
   "execution_count": null,
   "id": "b296c31e-a8dd-40b1-a55f-9013f102e6da",
   "metadata": {},
   "outputs": [],
   "source": []
  }
 ],
 "metadata": {
  "kernelspec": {
   "display_name": "Python 3 (ipykernel)",
   "language": "python",
   "name": "python3"
  },
  "language_info": {
   "codemirror_mode": {
    "name": "ipython",
    "version": 3
   },
   "file_extension": ".py",
   "mimetype": "text/x-python",
   "name": "python",
   "nbconvert_exporter": "python",
   "pygments_lexer": "ipython3",
   "version": "3.13.0"
  }
 },
 "nbformat": 4,
 "nbformat_minor": 5
}
