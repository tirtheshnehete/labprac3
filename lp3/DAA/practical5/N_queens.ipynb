{
 "cells": [
  {
   "cell_type": "code",
   "execution_count": null,
   "id": "910665c0-abb1-4aee-adc3-541b243b1202",
   "metadata": {},
   "outputs": [],
   "source": [
    "\n",
    "def solveNQueens(n:int , first_queen_col:int):\n",
    "    col=set()\n",
    "    pos=set()\n",
    "    neg=set()\n",
    "    res=[]\n",
    "    board=[[\".\"]*n for _ in range(n)]\n",
    "\n",
    "    def backtrack(r):\n",
    "        if r==n:\n",
    "            res.append([\"\".join(row) for row in board])\n",
    "            return\n",
    "        for c in range(n):\n",
    "            if c in col or (r+c) in pos or (r-c) in neg:\n",
    "                continue\n",
    "            col.add(c)\n",
    "            pos.add(r+c)\n",
    "            neg.add(r-c)\n",
    "            board[r][c]=\"Q\"\n",
    "            backtrack(r+1)\n",
    "            col.remove(c)\n",
    "            pos.remove(r+c)\n",
    "            neg.remove(r-c)\n",
    "            board[r][c]=\".\"\n",
    "    col.add(first_queen_col)\n",
    "    pos.add(0+first_queen_col)\n",
    "    neg.add(0-first_queen_col)\n",
    "    board[0][first_queen_col]=\"Q\"\n",
    "    backtrack(1)\n",
    "    return res\n",
    "\n",
    "if __name__==\"__main__\":\n",
    "    n=8\n",
    "    first_queen_col=1\n",
    "    board=solveNQueens(n,first_queen_col)[0]\n",
    "    for row in board:\n",
    "        print(\" \".join(row))"
   ]
  }
 ],
 "metadata": {
  "kernelspec": {
   "display_name": "Python 3 (ipykernel)",
   "language": "python",
   "name": "python3"
  },
  "language_info": {
   "codemirror_mode": {
    "name": "ipython",
    "version": 3
   },
   "file_extension": ".py",
   "mimetype": "text/x-python",
   "name": "python",
   "nbconvert_exporter": "python",
   "pygments_lexer": "ipython3",
   "version": "3.13.0"
  }
 },
 "nbformat": 4,
 "nbformat_minor": 5
}
