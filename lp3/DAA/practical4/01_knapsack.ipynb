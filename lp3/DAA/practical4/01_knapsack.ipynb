{
 "cells": [
  {
   "cell_type": "code",
   "execution_count": 3,
   "id": "41da55fa-69d9-4187-9559-134a45a34205",
   "metadata": {},
   "outputs": [
    {
     "name": "stdout",
     "output_type": "stream",
     "text": [
      "Maximum value =  220\n",
      "selected values =  [2, 1]\n"
     ]
    }
   ],
   "source": [
    "def knapsack01(n,values,weights,W):\n",
    "    dp=[[0]*(W+1) for _ in range(n+1)]\n",
    "    for i in range(n+1):\n",
    "        for w in range(W+1):\n",
    "            if i==0 or w==0:\n",
    "                dp[i][w]=0\n",
    "            elif weights[i-1]<=w:\n",
    "                dp[i][w]=max(dp[i-1][w],dp[i-1][w-weights[i-1]]+values[i-1])\n",
    "            else:\n",
    "                dp[i][w]=dp[i-1][w]\n",
    "    selected_items=[]\n",
    "    i,w=n,W\n",
    "    while i>0 and w>0:\n",
    "        if dp[i][w]!=dp[i-1][w]:\n",
    "            selected_items.append(i-1)\n",
    "            w-=weights[i-1]\n",
    "        i-=1\n",
    "    return dp[n][W],selected_items\n",
    "if __name__==\"__main__\":\n",
    "    n=3\n",
    "    values=[60,100,120]\n",
    "    weights=[10,20,30]\n",
    "    W=50\n",
    "\n",
    "    max_values,selected_values=knapsack01(n,values,weights,W)\n",
    "    print(\"Maximum value = \", max_values)\n",
    "    print(\"selected values = \",selected_values)"
   ]
  },
  {
   "cell_type": "code",
   "execution_count": null,
   "id": "3ef7162a-9683-43bd-a712-0089214de125",
   "metadata": {},
   "outputs": [],
   "source": []
  }
 ],
 "metadata": {
  "kernelspec": {
   "display_name": "Python 3 (ipykernel)",
   "language": "python",
   "name": "python3"
  },
  "language_info": {
   "codemirror_mode": {
    "name": "ipython",
    "version": 3
   },
   "file_extension": ".py",
   "mimetype": "text/x-python",
   "name": "python",
   "nbconvert_exporter": "python",
   "pygments_lexer": "ipython3",
   "version": "3.13.0"
  }
 },
 "nbformat": 4,
 "nbformat_minor": 5
}
