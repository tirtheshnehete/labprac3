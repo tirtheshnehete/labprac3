{
 "cells": [
  {
   "cell_type": "code",
   "execution_count": null,
   "id": "a5919c86-c406-4fef-a183-58f52be4e8e0",
   "metadata": {},
   "outputs": [
    {
     "name": "stdout",
     "output_type": "stream",
     "text": [
      "Array size: 100\n",
      "Deterministic Quick Sort time: 0.001977 seconds\n",
      "Randomized Quick Sort time: 0.000742 seconds\n",
      "----------------------------------------\n",
      "Array size: 1000\n",
      "Deterministic Quick Sort time: 0.183059 seconds\n",
      "Randomized Quick Sort time: 0.009290 seconds\n",
      "----------------------------------------\n",
      "Array size: 10000\n",
      "Deterministic Quick Sort time: 5.052546 seconds\n",
      "Randomized Quick Sort time: 0.160144 seconds\n",
      "----------------------------------------\n"
     ]
    }
   ],
   "source": [
    "import random\n",
    "import timeit\n",
    "\n",
    "def deterministic_partition(arr, low, high):\n",
    "    pivot = arr[high]\n",
    "    i = low - 1\n",
    "\n",
    "    for j in range(low, high):\n",
    "        if arr[j] < pivot:\n",
    "            i += 1\n",
    "            arr[i], arr[j] = arr[j], arr[i]\n",
    "\n",
    "    arr[i + 1], arr[high] = arr[high], arr[i + 1]\n",
    "    return i + 1\n",
    "\n",
    "def randomized_partition(arr, low, high):\n",
    "    pivot_index = random.randint(low, high)\n",
    "    arr[pivot_index], arr[high] = arr[high], arr[pivot_index]\n",
    "    return deterministic_partition(arr, low, high)\n",
    "\n",
    "def quick_sort(arr, low, high, pivot_selector):\n",
    "    if low < high:\n",
    "        pivot_index = pivot_selector(arr, low, high)\n",
    "        quick_sort(arr, low, pivot_index - 1, pivot_selector)\n",
    "        quick_sort(arr, pivot_index + 1, high, pivot_selector)\n",
    "\n",
    "if __name__ == \"__main__\":\n",
    "    arr_sizes = [100, 1000, 10000, 100000]\n",
    "    for size in arr_sizes:\n",
    "        arr = [random.randint(1, 1000) for _ in range(size)]\n",
    "        arr.sort(reverse=True)\n",
    "\n",
    "        deterministic_time = timeit.timeit(\"quick_sort(arr.copy(), 0, len(arr) - 1, deterministic_partition)\",\n",
    "                                        globals=globals(),\n",
    "                                        number=10)\n",
    "        \n",
    "        randomized_time = timeit.timeit(\"quick_sort(arr.copy(), 0, len(arr) - 1, randomized_partition)\",\n",
    "                                        globals=globals(),\n",
    "                                        number=10)\n",
    "        \n",
    "        print(f\"Array size: {size}\")\n",
    "        print(f\"Deterministic Quick Sort time: {deterministic_time:.6f} seconds\")\n",
    "        print(f\"Randomized Quick Sort time: {randomized_time:.6f} seconds\")\n",
    "        print(\"-\" * 40)"
   ]
  },
  {
   "cell_type": "code",
   "execution_count": null,
   "id": "1c87e389-9f58-48c6-9558-c52a35fd90d4",
   "metadata": {},
   "outputs": [],
   "source": []
  }
 ],
 "metadata": {
  "kernelspec": {
   "display_name": "Python 3 (ipykernel)",
   "language": "python",
   "name": "python3"
  },
  "language_info": {
   "codemirror_mode": {
    "name": "ipython",
    "version": 3
   },
   "file_extension": ".py",
   "mimetype": "text/x-python",
   "name": "python",
   "nbconvert_exporter": "python",
   "pygments_lexer": "ipython3",
   "version": "3.13.0"
  }
 },
 "nbformat": 4,
 "nbformat_minor": 5
}
