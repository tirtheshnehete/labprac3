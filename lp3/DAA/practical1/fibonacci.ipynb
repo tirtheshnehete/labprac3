{
 "cells": [
  {
   "cell_type": "code",
   "execution_count": 1,
   "id": "51b88bbc-0475-4954-bb51-562a9ed137ba",
   "metadata": {},
   "outputs": [
    {
     "name": "stdout",
     "output_type": "stream",
     "text": [
      "1 2 3 5 8 13 21 34 55 89 \n"
     ]
    }
   ],
   "source": [
    "n=10\n",
    "num1=0\n",
    "num2=1\n",
    "next_num=num2\n",
    "count=1\n",
    "while count<=n:\n",
    "    print(next_num,end=\" \")\n",
    "    count+=1\n",
    "    num1,num2=num2,next_num\n",
    "    next_num=num1+num2\n",
    "print()\n",
    "    "
   ]
  },
  {
   "cell_type": "code",
   "execution_count": 2,
   "id": "eba30614-532a-4bfa-9ede-2a08b23a5515",
   "metadata": {},
   "outputs": [
    {
     "name": "stdout",
     "output_type": "stream",
     "text": [
      "34\n"
     ]
    }
   ],
   "source": [
    "def fib(n):\n",
    "    if n<0:\n",
    "        return \"Incorrect Input\"\n",
    "    elif(n==0):\n",
    "        return 0\n",
    "    elif(n==1 or n==2):\n",
    "        return 1\n",
    "    else:\n",
    "        return (fib(n-1)+fib(n-2))\n",
    "\n",
    "print(fib(9))"
   ]
  },
  {
   "cell_type": "code",
   "execution_count": null,
   "id": "4dea9098-9312-4904-9d63-3baa49f1dd11",
   "metadata": {},
   "outputs": [],
   "source": []
  }
 ],
 "metadata": {
  "kernelspec": {
   "display_name": "Python 3 (ipykernel)",
   "language": "python",
   "name": "python3"
  },
  "language_info": {
   "codemirror_mode": {
    "name": "ipython",
    "version": 3
   },
   "file_extension": ".py",
   "mimetype": "text/x-python",
   "name": "python",
   "nbconvert_exporter": "python",
   "pygments_lexer": "ipython3",
   "version": "3.13.0"
  }
 },
 "nbformat": 4,
 "nbformat_minor": 5
}
